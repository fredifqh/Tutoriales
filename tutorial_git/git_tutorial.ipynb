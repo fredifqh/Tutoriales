{
 "cells": [
  {
   "cell_type": "code",
   "execution_count": 21,
   "metadata": {},
   "outputs": [],
   "source": [
    "from IPython.display import Image"
   ]
  },
  {
   "cell_type": "markdown",
   "metadata": {},
   "source": [
    "## **Tutorial git and github**\n",
    "Fredi Quispe H.\n",
    "\n",
    "<img src=\"phd_final.png\" width=\"350px\" height=\"450px\"/>"
   ]
  },
  {
   "cell_type": "markdown",
   "metadata": {},
   "source": [
    "### **Breve introducción**\n",
    "#### **Repositorio**\n",
    "Un repositorio es donde se almacenan los archivos de un proyecto y el historial de modificaciones.\n",
    "#### **Git**\n",
    "Git es un software de control de versiones diseñado por Linus Torvalds, pensando en la eficiencia y la confiabilidad del mantenimiento de versiones de aplicaciones cuando éstas tienen un gran número de archivos de código fuente (Wikipedia). https://git-scm.com/book/en/v2\n",
    "#### **Github**\n",
    "Repositorio remoto donde desarrolladores o programadores almacenan sus proyectos.\n",
    "\n",
    "#### **Git and Github**\n",
    "<img src=\"introgit-distribuido1.png\" width=\"250px\" height=\"350px\"/>"
   ]
  },
  {
   "cell_type": "markdown",
   "metadata": {},
   "source": [
    "### **Creando un repositorio en github**\n",
    "https://github.com/new\n",
    "\n",
    "1. New\n",
    "2. Repository name\n",
    "3. Description (optional)\n",
    "4. Public\n",
    "5. Private\n",
    "6. Initialize this repository with a README (important)\n",
    "7. gitignore"
   ]
  },
  {
   "cell_type": "code",
   "execution_count": 17,
   "metadata": {},
   "outputs": [],
   "source": [
    "#from IPython.display import HTML\n",
    "#HTML('<iframe src=https://github.com/new width=700 height=350></iframe>')"
   ]
  },
  {
   "cell_type": "markdown",
   "metadata": {},
   "source": [
    "### **Git**"
   ]
  },
  {
   "cell_type": "markdown",
   "metadata": {},
   "source": [
    "### **Clonar el repositorio**"
   ]
  },
  {
   "cell_type": "code",
   "execution_count": 3,
   "metadata": {},
   "outputs": [],
   "source": [
    "#! git clone https://github.com/fredifqh/fredifqh.github.io.git"
   ]
  },
  {
   "cell_type": "code",
   "execution_count": 37,
   "metadata": {},
   "outputs": [],
   "source": [
    "#! ls -1 .git"
   ]
  },
  {
   "cell_type": "markdown",
   "metadata": {},
   "source": [
    "### **Comandos más usados de git**\n",
    "```{r, engine='bash', count_lines}\n",
    "git status\n",
    "git add <archivos, directorios>  \n",
    "git commit -m \"comentario\" \n",
    "git push\n",
    "git pull\n",
    "```"
   ]
  },
  {
   "cell_type": "markdown",
   "metadata": {},
   "source": [
    "### **Esquema simplificado de como funciona git**\n",
    "<img src=\"simple_workflow_git.png\" width=\"400px\" height=\"650px\"/>"
   ]
  },
  {
   "cell_type": "markdown",
   "metadata": {},
   "source": [
    "#### **Git add**"
   ]
  },
  {
   "cell_type": "code",
   "execution_count": 41,
   "metadata": {},
   "outputs": [],
   "source": [
    "# comando para crear un archivo en linux\n",
    "#! touch teste.py"
   ]
  },
  {
   "cell_type": "code",
   "execution_count": 5,
   "metadata": {},
   "outputs": [],
   "source": [
    "#! git add .\n",
    "#! git add *\n",
    "#! git add teste.py\n",
    "\n",
    "#! git status"
   ]
  },
  {
   "cell_type": "code",
   "execution_count": 2,
   "metadata": {},
   "outputs": [],
   "source": [
    "#! git diff \n",
    "#! git diff --staged"
   ]
  },
  {
   "cell_type": "markdown",
   "metadata": {},
   "source": [
    "#### **Git commit**"
   ]
  },
  {
   "cell_type": "code",
   "execution_count": 6,
   "metadata": {},
   "outputs": [],
   "source": [
    "#! git commit -m \"comment\"\n",
    "#! git commit file_name -m \"comment\"\n",
    "\n",
    "#! git status"
   ]
  },
  {
   "cell_type": "markdown",
   "metadata": {},
   "source": [
    "### **Github**\n",
    "\n",
    "<img src=\"introgit-distribuido1.png\" width=\"250px\" height=\"350px\"/>"
   ]
  },
  {
   "cell_type": "markdown",
   "metadata": {},
   "source": [
    "#### **Git push**"
   ]
  },
  {
   "cell_type": "code",
   "execution_count": null,
   "metadata": {},
   "outputs": [],
   "source": [
    "#! git push"
   ]
  },
  {
   "cell_type": "markdown",
   "metadata": {},
   "source": [
    "#### **Git pull**"
   ]
  },
  {
   "cell_type": "markdown",
   "metadata": {},
   "source": [
    "### **Git branch and merge**\n",
    "<img src=\"git_branch_merge.png\" width=\"400px\" height=\"650px\"/>"
   ]
  },
  {
   "cell_type": "code",
   "execution_count": 8,
   "metadata": {},
   "outputs": [],
   "source": [
    "# comando para crear una rama\n",
    "#! git branch branch_name\n",
    "# commando para cambiar de rama\n",
    "#! git checkout branch_name\n",
    "#! git checkout -b branch_name"
   ]
  },
  {
   "cell_type": "code",
   "execution_count": 9,
   "metadata": {},
   "outputs": [
    {
     "name": "stdout",
     "output_type": "stream",
     "text": [
      "D\tREADME.md\n",
      "M\tgit_tutorial.ipynb\n",
      "D\tteste.py\n",
      "M\ttutorial_git/git_tutorial.ipynb\n",
      "Switched to a new branch 'teste'\n"
     ]
    }
   ],
   "source": [
    "!git checkout -b teste"
   ]
  },
  {
   "cell_type": "code",
   "execution_count": 14,
   "metadata": {},
   "outputs": [
    {
     "name": "stdout",
     "output_type": "stream",
     "text": [
      "  master\u001b[m\n",
      "* \u001b[32mteste\u001b[m\n"
     ]
    }
   ],
   "source": [
    "! git branch"
   ]
  },
  {
   "cell_type": "code",
   "execution_count": 15,
   "metadata": {},
   "outputs": [
    {
     "name": "stdout",
     "output_type": "stream",
     "text": [
      "D\tREADME.md\n",
      "M\tgit_tutorial.ipynb\n",
      "D\tteste.py\n",
      "M\ttutorial_git/git_tutorial.ipynb\n",
      "M\ttutorial_git/teste.py\n",
      "Switched to branch 'master'\n",
      "Your branch is up to date with 'origin/master'.\n"
     ]
    }
   ],
   "source": [
    "! git checkout master"
   ]
  },
  {
   "cell_type": "code",
   "execution_count": 18,
   "metadata": {},
   "outputs": [
    {
     "name": "stdout",
     "output_type": "stream",
     "text": [
      "[master 2628129] new directory\n",
      " 8 files changed, 355 insertions(+), 3 deletions(-)\n",
      " create mode 100644 tutorial_git/.ipynb_checkpoints/git_tutorial-checkpoint.ipynb\n",
      " create mode 100644 tutorial_git/.ipynb_checkpoints/teste-checkpoint.py\n",
      " create mode 100644 tutorial_git/collaborators_project.jpg\n",
      " create mode 100644 tutorial_git/git-cheat-sheet-education.pdf\n",
      " create mode 100644 tutorial_git/git_branch_merge.png\n",
      " create mode 100644 tutorial_git/push_pull.gif\n"
     ]
    }
   ],
   "source": [
    "! git commit -m \"new directory\""
   ]
  },
  {
   "cell_type": "markdown",
   "metadata": {},
   "source": [
    "### **Colaboradores**\n",
    "<img src=\"introgit-resumen1.png\" width=\"400px\" height=\"650px\"/>"
   ]
  },
  {
   "cell_type": "code",
   "execution_count": 7,
   "metadata": {},
   "outputs": [],
   "source": [
    "# from IPython.display import HTML\n",
    "# HTML('<img src=\"push_pull.gif\">')"
   ]
  }
 ],
 "metadata": {
  "kernelspec": {
   "display_name": "Python 3",
   "language": "python",
   "name": "python3"
  },
  "language_info": {
   "codemirror_mode": {
    "name": "ipython",
    "version": 3
   },
   "file_extension": ".py",
   "mimetype": "text/x-python",
   "name": "python",
   "nbconvert_exporter": "python",
   "pygments_lexer": "ipython3",
   "version": "3.7.6"
  }
 },
 "nbformat": 4,
 "nbformat_minor": 4
}
