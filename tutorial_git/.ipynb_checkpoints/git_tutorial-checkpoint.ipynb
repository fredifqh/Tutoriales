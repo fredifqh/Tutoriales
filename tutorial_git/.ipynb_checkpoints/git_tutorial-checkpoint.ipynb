{
 "cells": [
  {
   "cell_type": "markdown",
   "metadata": {},
   "source": [
    "## **Tutorial git and github**\n",
    "Fredi Quispe H.\n",
    "\n",
    "### **Breve introducción**\n",
    "\n",
    "<img src=\"phd_final.png\" width=\"450px\" height=\"550px\"/>\n",
    "\n"
   ]
  },
  {
   "cell_type": "markdown",
   "metadata": {},
   "source": [
    "### **Como grupo** \n",
    "**Pipelines**\n",
    "\n",
    "<img src=\"pipeline.jpg\" width=\"450px\" height=\"550px\"/>\n",
    "\n",
    "**Ejemplo**\n",
    "\n",
    "<img src=\"pipeline_process.png\" width=\"450px\" height=\"550px\"/>\n",
    "\n",
    "**Softwares**\n",
    "\n",
    "**Beneficios**\n",
    "1. Citación en artículos\n",
    "2. CV"
   ]
  },
  {
   "cell_type": "markdown",
   "metadata": {},
   "source": [
    "#### **Repositorio**\n",
    "Un repositorio es donde se almacenan los archivos de un proyecto y el historial de modificaciones.\n",
    "#### **Git**\n",
    "Git es un software de control de versiones diseñado por Linus Torvalds, pensando en la eficiencia y la confiabilidad del mantenimiento de versiones de aplicaciones cuando éstas tienen un gran número de archivos de código fuente (Wikipedia). \n",
    "##### **Book**\n",
    "https://git-scm.com/book/en/v2\n",
    "#### **Github**\n",
    "Repositorio remoto donde desarrolladores o programadores almacenan sus proyectos (archivos + directorios).\n",
    "\n",
    "#### **Git and Github**\n",
    "<img src=\"introgit-distribuido1.png\" width=\"250px\" height=\"350px\"/>"
   ]
  },
  {
   "cell_type": "markdown",
   "metadata": {},
   "source": [
    "### **Creando repositorio en github**\n",
    "https://github.com/new\n",
    "\n",
    "1. New\n",
    "2. Repository name\n",
    "3. Description (optional)\n",
    "4. Public\n",
    "5. Private\n",
    "6. Initialize this repository with a README (important!!!)\n",
    "7. gitignore (mostrar ejemplo)"
   ]
  },
  {
   "cell_type": "code",
   "execution_count": 2,
   "metadata": {},
   "outputs": [
    {
     "name": "stdout",
     "output_type": "stream",
     "text": [
      ".eggs/\n",
      "lib/\n",
      "lib64/\n",
      "parts/\n",
      "sdist/\n",
      "var/\n",
      "wheels/\n",
      "pip-wheel-metadata/\n",
      "share/python-wheels/\n",
      "*.egg-info/\n",
      ".installed.cfg\n",
      "*.egg\n",
      "MANIFEST\n",
      "\n",
      "# PyInstaller\n",
      "#  Usually these files are written by a python script from a template\n",
      "#  before PyInstaller builds the exe, so as to inject date/other infos into it.\n",
      "*.manifest\n",
      "*.spec\n",
      "\n",
      "# Installer logs\n",
      "pip-log.txt\n",
      "pip-delete-this-directory.txt\n",
      "\n",
      "# Unit test / coverage reports\n",
      "htmlcov/\n",
      ".tox/\n",
      ".nox/\n",
      ".coverage\n",
      ".coverage.*"
     ]
    }
   ],
   "source": [
    "# comando para ver el archivo .gitignore\n",
    "#! cat .gitignore"
   ]
  },
  {
   "cell_type": "code",
   "execution_count": 17,
   "metadata": {},
   "outputs": [],
   "source": [
    "#from IPython.display import HTML\n",
    "#HTML('<iframe src=https://github.com/new width=700 height=350></iframe>')"
   ]
  },
  {
   "cell_type": "markdown",
   "metadata": {},
   "source": [
    "### **Git**"
   ]
  },
  {
   "cell_type": "markdown",
   "metadata": {},
   "source": [
    "### **Clonar el repositorio**"
   ]
  },
  {
   "cell_type": "code",
   "execution_count": 3,
   "metadata": {},
   "outputs": [],
   "source": [
    "#! git clone https://github.com/fredifqh/repo_name.git\n",
    "# ventajas y desventaja de usar clone\n",
    "# https://help.github.com/en/github/using-git/why-is-git-always-asking-for-my-password\n",
    "#! cd repo_name"
   ]
  },
  {
   "cell_type": "code",
   "execution_count": 5,
   "metadata": {},
   "outputs": [
    {
     "name": "stdout",
     "output_type": "stream",
     "text": [
      "ls: cannot access '.git': No such file or directory\n"
     ]
    }
   ],
   "source": [
    "#! ls -1 .git"
   ]
  },
  {
   "cell_type": "markdown",
   "metadata": {},
   "source": [
    "### **Comandos más usados de git**\n",
    "```{r, engine='bash', count_lines}\n",
    "git status\n",
    "git add <archivos, directorios>  \n",
    "git commit -m \"comentario\" \n",
    "git push\n",
    "git pull\n",
    "```"
   ]
  },
  {
   "cell_type": "markdown",
   "metadata": {},
   "source": [
    "### **Esquema simplificado de como funciona git**\n",
    "<img src=\"simple_workflow_git.png\" width=\"400px\" height=\"650px\"/>"
   ]
  },
  {
   "cell_type": "markdown",
   "metadata": {},
   "source": [
    "#### **Git add**"
   ]
  },
  {
   "cell_type": "code",
   "execution_count": 41,
   "metadata": {},
   "outputs": [],
   "source": [
    "# comando para crear un archivo en linux\n",
    "#! touch teste.py"
   ]
  },
  {
   "cell_type": "code",
   "execution_count": 13,
   "metadata": {},
   "outputs": [],
   "source": [
    "# comando para añadir todos los archivos y directorios creados\n",
    "#! git add .\n",
    "#! git add *\n",
    "# comando para añadir un archivo\n",
    "#! git add teste.py\n",
    "\n",
    "#! git status\n",
    "# comando para quitar archivo o directorio del \"staging area\"\n",
    "#! git reset HEAD file_name (to unstaged)"
   ]
  },
  {
   "cell_type": "code",
   "execution_count": 2,
   "metadata": {},
   "outputs": [],
   "source": [
    "# ver diferencias en el working directory\n",
    "#! git diff \n",
    "# ver diferencias en el staging area\n",
    "#! git diff --staged"
   ]
  },
  {
   "cell_type": "markdown",
   "metadata": {},
   "source": [
    "#### **Git commit**"
   ]
  },
  {
   "cell_type": "code",
   "execution_count": 4,
   "metadata": {},
   "outputs": [],
   "source": [
    "# Comentario en el repositorio\n",
    "#! git commit -m \"comment\"\n",
    "\n",
    "# comentar archivos específicos\n",
    "#! git commit file_name -m \"comment\"\n",
    "\n",
    "#! git status"
   ]
  },
  {
   "cell_type": "markdown",
   "metadata": {},
   "source": [
    "### **Github**\n",
    "\n",
    "<img src=\"introgit-distribuido1.png\" width=\"250px\" height=\"350px\"/>"
   ]
  },
  {
   "cell_type": "markdown",
   "metadata": {},
   "source": [
    "#### **Git push**"
   ]
  },
  {
   "cell_type": "code",
   "execution_count": null,
   "metadata": {},
   "outputs": [],
   "source": [
    "#! git push"
   ]
  },
  {
   "cell_type": "markdown",
   "metadata": {},
   "source": [
    "#### **Configuración de cuenta**"
   ]
  },
  {
   "cell_type": "code",
   "execution_count": 5,
   "metadata": {},
   "outputs": [],
   "source": [
    "# Comando para ver la configuración global de github en la pc\n",
    "#! git config --global --list\n",
    "\n",
    "# Configuración global de git en el pc\n",
    "# git config --global user.name \"fredifqh\"\n",
    "# git config --global user.email fredifqh@gmail.com\n",
    "\n",
    "# Configuración local de git la pc\n",
    "#! git config user.name \"cusco-cientifico\"\n",
    "#! git config user.email cusco.cientifico@gmail.com\n",
    "\n",
    "# Comando para no ir colocando user.name y contraseña cada vez que es usado git push\n",
    "#! git config credential.helper 'cache --timeout=7200'"
   ]
  },
  {
   "cell_type": "markdown",
   "metadata": {},
   "source": [
    "#### **Git pull**"
   ]
  },
  {
   "cell_type": "code",
   "execution_count": 12,
   "metadata": {},
   "outputs": [],
   "source": [
    "#! git pull (git fetch + git merge)\n",
    "# otra alternativa\n",
    "#! git rebase"
   ]
  },
  {
   "cell_type": "markdown",
   "metadata": {},
   "source": [
    "### **Branch and Merge**\n",
    "<img src=\"git_branch_merge.png\" width=\"400px\" height=\"650px\"/>"
   ]
  },
  {
   "cell_type": "markdown",
   "metadata": {},
   "source": [
    "#### **Branch** "
   ]
  },
  {
   "cell_type": "code",
   "execution_count": 6,
   "metadata": {},
   "outputs": [],
   "source": [
    "# comando para crear una rama\n",
    "#! git branch branch_name\n",
    "\n",
    "# commando para cambiar de rama\n",
    "#! git checkout branch_name\n",
    "\n",
    "# comando para crear rama y cambiar a la rama creada (shortcut)\n",
    "#! git checkout -b branch_name"
   ]
  },
  {
   "cell_type": "code",
   "execution_count": 1,
   "metadata": {},
   "outputs": [
    {
     "name": "stdout",
     "output_type": "stream",
     "text": [
      "M\ttutorial_git/git_tutorial.ipynb\n",
      "Switched to a new branch 'teste'\n"
     ]
    }
   ],
   "source": [
    "#! git checkout -b teste"
   ]
  },
  {
   "cell_type": "code",
   "execution_count": 2,
   "metadata": {},
   "outputs": [
    {
     "name": "stdout",
     "output_type": "stream",
     "text": [
      "  master\u001b[m\n",
      "* \u001b[32mteste\u001b[m\n"
     ]
    }
   ],
   "source": [
    "#! git branch"
   ]
  },
  {
   "cell_type": "code",
   "execution_count": 4,
   "metadata": {},
   "outputs": [
    {
     "name": "stdout",
     "output_type": "stream",
     "text": [
      "M\ttutorial_git/git_tutorial.ipynb\n",
      "Switched to branch 'master'\n",
      "Your branch is up to date with 'origin/master'.\n"
     ]
    }
   ],
   "source": [
    "# comando para cambiar a la rama master\n",
    "#! git checkout master"
   ]
  },
  {
   "cell_type": "code",
   "execution_count": 6,
   "metadata": {},
   "outputs": [],
   "source": [
    "# comando para cambiar a la rama teste\n",
    "#! git checkout teste"
   ]
  },
  {
   "cell_type": "code",
   "execution_count": 7,
   "metadata": {},
   "outputs": [],
   "source": [
    "# creando un archivo en la rama teste\n",
    "# local\n",
    "#! touch rama_teste.py\n",
    "#! git add rama_teste.py\n",
    "#! git commit -m 'add teste.py'\n",
    "# remoto\n",
    "#! git push -u origin teste"
   ]
  },
  {
   "cell_type": "markdown",
   "metadata": {},
   "source": [
    "#### **Merge**"
   ]
  },
  {
   "cell_type": "code",
   "execution_count": 2,
   "metadata": {},
   "outputs": [],
   "source": [
    "#from IPython.display import HTML\n",
    "#HTML('<img src=\"merge.gif\">')"
   ]
  },
  {
   "cell_type": "code",
   "execution_count": 9,
   "metadata": {},
   "outputs": [],
   "source": [
    "#from IPython.display import HTML\n",
    "#HTML('<img src=\"succes_fusion_goten_trunks.gif\">')"
   ]
  },
  {
   "cell_type": "code",
   "execution_count": 8,
   "metadata": {},
   "outputs": [],
   "source": [
    "# antes de realizar el merge es necesário ir a la rama master usando el comando\n",
    "#! git checkout master\n",
    "#! git merge teste\n",
    "# comando para eliminar la rama del repositorio local\n",
    "#! git branch -d teste\n",
    "# comando para eliminar la rama del repositorio remoto\n",
    "#! git push origin --delete teste"
   ]
  },
  {
   "cell_type": "code",
   "execution_count": 4,
   "metadata": {},
   "outputs": [],
   "source": [
    "#from IPython.display import HTML\n",
    "#HTML('<img src=\"failed_fusion_goten_trunks.gif\">')"
   ]
  },
  {
   "cell_type": "markdown",
   "metadata": {},
   "source": [
    "### **Colaboradores**\n",
    "<img src=\"introgit-resumen1.png\" width=\"400px\" height=\"650px\"/>"
   ]
  },
  {
   "cell_type": "code",
   "execution_count": 2,
   "metadata": {},
   "outputs": [],
   "source": [
    "#from IPython.display import HTML\n",
    "#HTML('<img src=\"push_pull.gif\">')"
   ]
  },
  {
   "cell_type": "code",
   "execution_count": 1,
   "metadata": {},
   "outputs": [],
   "source": [
    "# comando para remover archivos y directorios\n",
    "#! git rm -r\n",
    "#! git reset HEAD file_name (to unstaged)"
   ]
  },
  {
   "cell_type": "markdown",
   "metadata": {},
   "source": [
    "### **Git Cheat Sheet**\n",
    "https://github.github.com/training-kit/downloads/github-git-cheat-sheet.pdf\n",
    "\n",
    "https://education.github.com/git-cheat-sheet-education.pdf"
   ]
  }
 ],
 "metadata": {
  "kernelspec": {
   "display_name": "Python 3",
   "language": "python",
   "name": "python3"
  },
  "language_info": {
   "codemirror_mode": {
    "name": "ipython",
    "version": 3
   },
   "file_extension": ".py",
   "mimetype": "text/x-python",
   "name": "python",
   "nbconvert_exporter": "python",
   "pygments_lexer": "ipython3",
   "version": "3.7.6"
  }
 },
 "nbformat": 4,
 "nbformat_minor": 4
}
